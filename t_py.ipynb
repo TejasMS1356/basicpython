{
  "nbformat": 4,
  "nbformat_minor": 0,
  "metadata": {
    "colab": {
      "provenance": [],
      "toc_visible": true,
      "authorship_tag": "ABX9TyN0kPOgd7FWj5NDKs/1bf8j",
      "include_colab_link": true
    },
    "kernelspec": {
      "name": "python3",
      "display_name": "Python 3"
    },
    "language_info": {
      "name": "python"
    }
  },
  "cells": [
    {
      "cell_type": "markdown",
      "metadata": {
        "id": "view-in-github",
        "colab_type": "text"
      },
      "source": [
        "<a href=\"https://colab.research.google.com/github/TejasMS1356/basicpython/blob/main/t_py.ipynb\" target=\"_parent\"><img src=\"https://colab.research.google.com/assets/colab-badge.svg\" alt=\"Open In Colab\"/></a>"
      ]
    },
    {
      "cell_type": "code",
      "execution_count": 5,
      "metadata": {
        "colab": {
          "base_uri": "https://localhost:8080/"
        },
        "id": "cdlQ2miAFy3r",
        "outputId": "6903dbd6-e4ad-4ef6-9e0f-e7ab34faea5f"
      },
      "outputs": [
        {
          "output_type": "stream",
          "name": "stdout",
          "text": [
            "enter the list: 1 2 3\n",
            "[1, 2, 3]\n",
            "the mean is 2.0\n",
            "the variance is 0.6666666666666666\n",
            "the standard deviation is 0.816496580927726\n"
          ]
        }
      ],
      "source": [
        "l=list(map(int,input(\"enter the list: \").split()))\n",
        "print(l)\n",
        "def mean(l):\n",
        "  return sum(l)/len(l)\n",
        "y=mean(l)\n",
        "print(\"the mean is\",y)\n",
        "def var(mean,l):\n",
        "  return sum((x-mean)**2 for x in l)/len(l)\n",
        "z=var(y,l)\n",
        "print(\"the variance is\",z)\n",
        "def std(var):\n",
        "  return var**0.5\n",
        "print(\"the standard deviation is\",std(z))"
      ]
    },
    {
      "cell_type": "markdown",
      "source": [
        "# New Section"
      ],
      "metadata": {
        "id": "xriREqFuGwwU"
      }
    },
    {
      "cell_type": "code",
      "source": [
        "import random\n",
        "print(\"WELCOME TO THE GAME.......READY TO PLAY\")\n",
        "rno=random.randint(0,100)\n",
        "\n",
        "\n",
        "while(True):\n",
        "\n",
        "\n",
        "      a=int(input(\"enter the no in the range of 0 to 100: \"))\n",
        "      if a<0 or a>100:\n",
        "            print(\"enter the no in the range of 0 to 1000\")\n",
        "      elif a==rno:\n",
        "            print(f\"congragulations you won the game!!!!!! the no is {rno}\")\n",
        "            print(\"*********THANK YOU FOR PLAYING**********\")\n",
        "\n",
        "            d=int(input(\"1.continue \\n 2. exit: \\n \"))\n",
        "            if d==1:\n",
        "                  continue\n",
        "            elif d==2:\n",
        "                   break\n",
        "      elif a>rno:\n",
        "            print(f\"guess the no less than {a}\")\n",
        "      elif  a<rno:\n",
        "            print(f\"guess the no greater than {a}\")\n",
        "\n",
        "\n",
        "\n",
        "\n",
        "\n",
        ""
      ],
      "metadata": {
        "colab": {
          "base_uri": "https://localhost:8080/"
        },
        "id": "XlzZvaaeNpcM",
        "outputId": "bd2a6799-b6d1-4ffa-ab28-cf8ff2fe32a1"
      },
      "execution_count": 3,
      "outputs": [
        {
          "name": "stdout",
          "output_type": "stream",
          "text": [
            "WELCOME TO THE GAME.......READY TO PLAY\n",
            "enter the no in the range of 0 to 100: 99\n",
            "guess the no less than 99\n",
            "enter the no in the range of 0 to 100: 50\n",
            "guess the no greater than 50\n",
            "enter the no in the range of 0 to 100: 75\n",
            "guess the no less than 75\n",
            "enter the no in the range of 0 to 100: 60\n",
            "guess the no greater than 60\n",
            "enter the no in the range of 0 to 100: 65\n",
            "guess the no greater than 65\n",
            "enter the no in the range of 0 to 100: 70\n",
            "guess the no greater than 70\n",
            "enter the no in the range of 0 to 100: 71\n",
            "guess the no greater than 71\n",
            "enter the no in the range of 0 to 100: 73\n",
            "guess the no less than 73\n",
            "enter the no in the range of 0 to 100: 72\n",
            "congragulations you won the game!!!!!! the no is 72\n",
            "*********THANK YOU FOR PLAYING**********\n",
            "1.continue \n",
            " 2. exit: \n",
            " 2\n"
          ]
        }
      ]
    }
  ]
}